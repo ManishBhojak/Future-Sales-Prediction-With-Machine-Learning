{
 "cells": [
  {
   "cell_type": "code",
   "execution_count": 1,
   "id": "634f1002",
   "metadata": {},
   "outputs": [],
   "source": [
    "import pandas as pd\n",
    "import numpy as np\n",
    "from sklearn.model_selection import train_test_split\n",
    "from sklearn.linear_model import LinearRegression"
   ]
  },
  {
   "cell_type": "code",
   "execution_count": 2,
   "id": "3b8b77a8",
   "metadata": {},
   "outputs": [
    {
     "name": "stdout",
     "output_type": "stream",
     "text": [
      "      TV  Radio  Newspaper  Sales\n",
      "0  230.1   37.8       69.2   22.1\n",
      "1   44.5   39.3       45.1   10.4\n",
      "2   17.2   45.9       69.3   12.0\n",
      "3  151.5   41.3       58.5   16.5\n",
      "4  180.8   10.8       58.4   17.9\n"
     ]
    }
   ],
   "source": [
    "data = pd.read_csv('advertising.csv')\n",
    "print(data.head())"
   ]
  },
  {
   "cell_type": "code",
   "execution_count": 3,
   "id": "b86fa86f",
   "metadata": {},
   "outputs": [
    {
     "name": "stdout",
     "output_type": "stream",
     "text": [
      "TV           0\n",
      "Radio        0\n",
      "Newspaper    0\n",
      "Sales        0\n",
      "dtype: int64\n"
     ]
    }
   ],
   "source": [
    "print(data.isnull().sum())"
   ]
  },
  {
   "cell_type": "code",
   "execution_count": 4,
   "id": "918769ec",
   "metadata": {},
   "outputs": [
    {
     "data": {
      "application/vnd.plotly.v1+json": {
       "config": {
        "plotlyServerURL": "https://plot.ly"
       },
       "data": [
        {
         "hovertemplate": "Sales=%{x}<br>TV=%{marker.size}<extra></extra>",
         "legendgroup": "",
         "marker": {
          "color": "#636efa",
          "size": {
           "bdata": "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",
           "dtype": "f8"
          },
          "sizemode": "area",
          "sizeref": 0.741,
          "symbol": "circle"
         },
         "mode": "markers",
         "name": "",
         "orientation": "v",
         "showlegend": false,
         "type": "scatter",
         "x": {
          "bdata": "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",
          "dtype": "f8"
         },
         "xaxis": "x",
         "y": {
          "bdata": "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",
          "dtype": "f8"
         },
         "yaxis": "y"
        },
        {
         "hovertemplate": "<b>OLS trendline</b><br>TV = 14.6431 * Sales + -74.5148<br>R<sup>2</sup>=0.812176<br><br>Sales=%{x}<br>TV=%{y} <b>(trend)</b><extra></extra>",
         "legendgroup": "",
         "marker": {
          "color": "#636efa",
          "symbol": "circle"
         },
         "mode": "lines",
         "name": "",
         "showlegend": false,
         "type": "scatter",
         "x": {
          "bdata": "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",
          "dtype": "f8"
         },
         "xaxis": "x",
         "y": {
          "bdata": "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",
          "dtype": "f8"
         },
         "yaxis": "y"
        }
       ],
       "layout": {
        "legend": {
         "itemsizing": "constant",
         "tracegroupgap": 0
        },
        "margin": {
         "t": 60
        },
        "template": {
         "data": {
          "bar": [
           {
            "error_x": {
             "color": "#2a3f5f"
            },
            "error_y": {
             "color": "#2a3f5f"
            },
            "marker": {
             "line": {
              "color": "#E5ECF6",
              "width": 0.5
             },
             "pattern": {
              "fillmode": "overlay",
              "size": 10,
              "solidity": 0.2
             }
            },
            "type": "bar"
           }
          ],
          "barpolar": [
           {
            "marker": {
             "line": {
              "color": "#E5ECF6",
              "width": 0.5
             },
             "pattern": {
              "fillmode": "overlay",
              "size": 10,
              "solidity": 0.2
             }
            },
            "type": "barpolar"
           }
          ],
          "carpet": [
           {
            "aaxis": {
             "endlinecolor": "#2a3f5f",
             "gridcolor": "white",
             "linecolor": "white",
             "minorgridcolor": "white",
             "startlinecolor": "#2a3f5f"
            },
            "baxis": {
             "endlinecolor": "#2a3f5f",
             "gridcolor": "white",
             "linecolor": "white",
             "minorgridcolor": "white",
             "startlinecolor": "#2a3f5f"
            },
            "type": "carpet"
           }
          ],
          "choropleth": [
           {
            "colorbar": {
             "outlinewidth": 0,
             "ticks": ""
            },
            "type": "choropleth"
           }
          ],
          "contour": [
           {
            "colorbar": {
             "outlinewidth": 0,
             "ticks": ""
            },
            "colorscale": [
             [
              0,
              "#0d0887"
             ],
             [
              0.1111111111111111,
              "#46039f"
             ],
             [
              0.2222222222222222,
              "#7201a8"
             ],
             [
              0.3333333333333333,
              "#9c179e"
             ],
             [
              0.4444444444444444,
              "#bd3786"
             ],
             [
              0.5555555555555556,
              "#d8576b"
             ],
             [
              0.6666666666666666,
              "#ed7953"
             ],
             [
              0.7777777777777778,
              "#fb9f3a"
             ],
             [
              0.8888888888888888,
              "#fdca26"
             ],
             [
              1,
              "#f0f921"
             ]
            ],
            "type": "contour"
           }
          ],
          "contourcarpet": [
           {
            "colorbar": {
             "outlinewidth": 0,
             "ticks": ""
            },
            "type": "contourcarpet"
           }
          ],
          "heatmap": [
           {
            "colorbar": {
             "outlinewidth": 0,
             "ticks": ""
            },
            "colorscale": [
             [
              0,
              "#0d0887"
             ],
             [
              0.1111111111111111,
              "#46039f"
             ],
             [
              0.2222222222222222,
              "#7201a8"
             ],
             [
              0.3333333333333333,
              "#9c179e"
             ],
             [
              0.4444444444444444,
              "#bd3786"
             ],
             [
              0.5555555555555556,
              "#d8576b"
             ],
             [
              0.6666666666666666,
              "#ed7953"
             ],
             [
              0.7777777777777778,
              "#fb9f3a"
             ],
             [
              0.8888888888888888,
              "#fdca26"
             ],
             [
              1,
              "#f0f921"
             ]
            ],
            "type": "heatmap"
           }
          ],
          "histogram": [
           {
            "marker": {
             "pattern": {
              "fillmode": "overlay",
              "size": 10,
              "solidity": 0.2
             }
            },
            "type": "histogram"
           }
          ],
          "histogram2d": [
           {
            "colorbar": {
             "outlinewidth": 0,
             "ticks": ""
            },
            "colorscale": [
             [
              0,
              "#0d0887"
             ],
             [
              0.1111111111111111,
              "#46039f"
             ],
             [
              0.2222222222222222,
              "#7201a8"
             ],
             [
              0.3333333333333333,
              "#9c179e"
             ],
             [
              0.4444444444444444,
              "#bd3786"
             ],
             [
              0.5555555555555556,
              "#d8576b"
             ],
             [
              0.6666666666666666,
              "#ed7953"
             ],
             [
              0.7777777777777778,
              "#fb9f3a"
             ],
             [
              0.8888888888888888,
              "#fdca26"
             ],
             [
              1,
              "#f0f921"
             ]
            ],
            "type": "histogram2d"
           }
          ],
          "histogram2dcontour": [
           {
            "colorbar": {
             "outlinewidth": 0,
             "ticks": ""
            },
            "colorscale": [
             [
              0,
              "#0d0887"
             ],
             [
              0.1111111111111111,
              "#46039f"
             ],
             [
              0.2222222222222222,
              "#7201a8"
             ],
             [
              0.3333333333333333,
              "#9c179e"
             ],
             [
              0.4444444444444444,
              "#bd3786"
             ],
             [
              0.5555555555555556,
              "#d8576b"
             ],
             [
              0.6666666666666666,
              "#ed7953"
             ],
             [
              0.7777777777777778,
              "#fb9f3a"
             ],
             [
              0.8888888888888888,
              "#fdca26"
             ],
             [
              1,
              "#f0f921"
             ]
            ],
            "type": "histogram2dcontour"
           }
          ],
          "mesh3d": [
           {
            "colorbar": {
             "outlinewidth": 0,
             "ticks": ""
            },
            "type": "mesh3d"
           }
          ],
          "parcoords": [
           {
            "line": {
             "colorbar": {
              "outlinewidth": 0,
              "ticks": ""
             }
            },
            "type": "parcoords"
           }
          ],
          "pie": [
           {
            "automargin": true,
            "type": "pie"
           }
          ],
          "scatter": [
           {
            "fillpattern": {
             "fillmode": "overlay",
             "size": 10,
             "solidity": 0.2
            },
            "type": "scatter"
           }
          ],
          "scatter3d": [
           {
            "line": {
             "colorbar": {
              "outlinewidth": 0,
              "ticks": ""
             }
            },
            "marker": {
             "colorbar": {
              "outlinewidth": 0,
              "ticks": ""
             }
            },
            "type": "scatter3d"
           }
          ],
          "scattercarpet": [
           {
            "marker": {
             "colorbar": {
              "outlinewidth": 0,
              "ticks": ""
             }
            },
            "type": "scattercarpet"
           }
          ],
          "scattergeo": [
           {
            "marker": {
             "colorbar": {
              "outlinewidth": 0,
              "ticks": ""
             }
            },
            "type": "scattergeo"
           }
          ],
          "scattergl": [
           {
            "marker": {
             "colorbar": {
              "outlinewidth": 0,
              "ticks": ""
             }
            },
            "type": "scattergl"
           }
          ],
          "scattermap": [
           {
            "marker": {
             "colorbar": {
              "outlinewidth": 0,
              "ticks": ""
             }
            },
            "type": "scattermap"
           }
          ],
          "scattermapbox": [
           {
            "marker": {
             "colorbar": {
              "outlinewidth": 0,
              "ticks": ""
             }
            },
            "type": "scattermapbox"
           }
          ],
          "scatterpolar": [
           {
            "marker": {
             "colorbar": {
              "outlinewidth": 0,
              "ticks": ""
             }
            },
            "type": "scatterpolar"
           }
          ],
          "scatterpolargl": [
           {
            "marker": {
             "colorbar": {
              "outlinewidth": 0,
              "ticks": ""
             }
            },
            "type": "scatterpolargl"
           }
          ],
          "scatterternary": [
           {
            "marker": {
             "colorbar": {
              "outlinewidth": 0,
              "ticks": ""
             }
            },
            "type": "scatterternary"
           }
          ],
          "surface": [
           {
            "colorbar": {
             "outlinewidth": 0,
             "ticks": ""
            },
            "colorscale": [
             [
              0,
              "#0d0887"
             ],
             [
              0.1111111111111111,
              "#46039f"
             ],
             [
              0.2222222222222222,
              "#7201a8"
             ],
             [
              0.3333333333333333,
              "#9c179e"
             ],
             [
              0.4444444444444444,
              "#bd3786"
             ],
             [
              0.5555555555555556,
              "#d8576b"
             ],
             [
              0.6666666666666666,
              "#ed7953"
             ],
             [
              0.7777777777777778,
              "#fb9f3a"
             ],
             [
              0.8888888888888888,
              "#fdca26"
             ],
             [
              1,
              "#f0f921"
             ]
            ],
            "type": "surface"
           }
          ],
          "table": [
           {
            "cells": {
             "fill": {
              "color": "#EBF0F8"
             },
             "line": {
              "color": "white"
             }
            },
            "header": {
             "fill": {
              "color": "#C8D4E3"
             },
             "line": {
              "color": "white"
             }
            },
            "type": "table"
           }
          ]
         },
         "layout": {
          "annotationdefaults": {
           "arrowcolor": "#2a3f5f",
           "arrowhead": 0,
           "arrowwidth": 1
          },
          "autotypenumbers": "strict",
          "coloraxis": {
           "colorbar": {
            "outlinewidth": 0,
            "ticks": ""
           }
          },
          "colorscale": {
           "diverging": [
            [
             0,
             "#8e0152"
            ],
            [
             0.1,
             "#c51b7d"
            ],
            [
             0.2,
             "#de77ae"
            ],
            [
             0.3,
             "#f1b6da"
            ],
            [
             0.4,
             "#fde0ef"
            ],
            [
             0.5,
             "#f7f7f7"
            ],
            [
             0.6,
             "#e6f5d0"
            ],
            [
             0.7,
             "#b8e186"
            ],
            [
             0.8,
             "#7fbc41"
            ],
            [
             0.9,
             "#4d9221"
            ],
            [
             1,
             "#276419"
            ]
           ],
           "sequential": [
            [
             0,
             "#0d0887"
            ],
            [
             0.1111111111111111,
             "#46039f"
            ],
            [
             0.2222222222222222,
             "#7201a8"
            ],
            [
             0.3333333333333333,
             "#9c179e"
            ],
            [
             0.4444444444444444,
             "#bd3786"
            ],
            [
             0.5555555555555556,
             "#d8576b"
            ],
            [
             0.6666666666666666,
             "#ed7953"
            ],
            [
             0.7777777777777778,
             "#fb9f3a"
            ],
            [
             0.8888888888888888,
             "#fdca26"
            ],
            [
             1,
             "#f0f921"
            ]
           ],
           "sequentialminus": [
            [
             0,
             "#0d0887"
            ],
            [
             0.1111111111111111,
             "#46039f"
            ],
            [
             0.2222222222222222,
             "#7201a8"
            ],
            [
             0.3333333333333333,
             "#9c179e"
            ],
            [
             0.4444444444444444,
             "#bd3786"
            ],
            [
             0.5555555555555556,
             "#d8576b"
            ],
            [
             0.6666666666666666,
             "#ed7953"
            ],
            [
             0.7777777777777778,
             "#fb9f3a"
            ],
            [
             0.8888888888888888,
             "#fdca26"
            ],
            [
             1,
             "#f0f921"
            ]
           ]
          },
          "colorway": [
           "#636efa",
           "#EF553B",
           "#00cc96",
           "#ab63fa",
           "#FFA15A",
           "#19d3f3",
           "#FF6692",
           "#B6E880",
           "#FF97FF",
           "#FECB52"
          ],
          "font": {
           "color": "#2a3f5f"
          },
          "geo": {
           "bgcolor": "white",
           "lakecolor": "white",
           "landcolor": "#E5ECF6",
           "showlakes": true,
           "showland": true,
           "subunitcolor": "white"
          },
          "hoverlabel": {
           "align": "left"
          },
          "hovermode": "closest",
          "mapbox": {
           "style": "light"
          },
          "paper_bgcolor": "white",
          "plot_bgcolor": "#E5ECF6",
          "polar": {
           "angularaxis": {
            "gridcolor": "white",
            "linecolor": "white",
            "ticks": ""
           },
           "bgcolor": "#E5ECF6",
           "radialaxis": {
            "gridcolor": "white",
            "linecolor": "white",
            "ticks": ""
           }
          },
          "scene": {
           "xaxis": {
            "backgroundcolor": "#E5ECF6",
            "gridcolor": "white",
            "gridwidth": 2,
            "linecolor": "white",
            "showbackground": true,
            "ticks": "",
            "zerolinecolor": "white"
           },
           "yaxis": {
            "backgroundcolor": "#E5ECF6",
            "gridcolor": "white",
            "gridwidth": 2,
            "linecolor": "white",
            "showbackground": true,
            "ticks": "",
            "zerolinecolor": "white"
           },
           "zaxis": {
            "backgroundcolor": "#E5ECF6",
            "gridcolor": "white",
            "gridwidth": 2,
            "linecolor": "white",
            "showbackground": true,
            "ticks": "",
            "zerolinecolor": "white"
           }
          },
          "shapedefaults": {
           "line": {
            "color": "#2a3f5f"
           }
          },
          "ternary": {
           "aaxis": {
            "gridcolor": "white",
            "linecolor": "white",
            "ticks": ""
           },
           "baxis": {
            "gridcolor": "white",
            "linecolor": "white",
            "ticks": ""
           },
           "bgcolor": "#E5ECF6",
           "caxis": {
            "gridcolor": "white",
            "linecolor": "white",
            "ticks": ""
           }
          },
          "title": {
           "x": 0.05
          },
          "xaxis": {
           "automargin": true,
           "gridcolor": "white",
           "linecolor": "white",
           "ticks": "",
           "title": {
            "standoff": 15
           },
           "zerolinecolor": "white",
           "zerolinewidth": 2
          },
          "yaxis": {
           "automargin": true,
           "gridcolor": "white",
           "linecolor": "white",
           "ticks": "",
           "title": {
            "standoff": 15
           },
           "zerolinecolor": "white",
           "zerolinewidth": 2
          }
         }
        },
        "xaxis": {
         "anchor": "y",
         "domain": [
          0,
          1
         ],
         "title": {
          "text": "Sales"
         }
        },
        "yaxis": {
         "anchor": "x",
         "domain": [
          0,
          1
         ],
         "title": {
          "text": "TV"
         }
        }
       }
      }
     },
     "metadata": {},
     "output_type": "display_data"
    }
   ],
   "source": [
    "import plotly.express as px\n",
    "import plotly.graph_objects as go\n",
    "figure = px.scatter(data_frame=data, x=\"Sales\", y=\"TV\", size=\"TV\", trendline=\"ols\")\n",
    "figure.show()\n"
   ]
  },
  {
   "cell_type": "code",
   "execution_count": 6,
   "id": "6e9a170e",
   "metadata": {},
   "outputs": [
    {
     "data": {
      "application/vnd.plotly.v1+json": {
       "config": {
        "plotlyServerURL": "https://plot.ly"
       },
       "data": [
        {
         "hovertemplate": "Sales=%{x}<br>Newspaper=%{marker.size}<extra></extra>",
         "legendgroup": "",
         "marker": {
          "color": "#636efa",
          "size": {
           "bdata": "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",
           "dtype": "f8"
          },
          "sizemode": "area",
          "sizeref": 0.285,
          "symbol": "circle"
         },
         "mode": "markers",
         "name": "",
         "orientation": "v",
         "showlegend": false,
         "type": "scatter",
         "x": {
          "bdata": "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",
          "dtype": "f8"
         },
         "xaxis": "x",
         "y": {
          "bdata": "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",
          "dtype": "f8"
         },
         "yaxis": "y"
        },
        {
         "hovertemplate": "<b>OLS trendline</b><br>Newspaper = 0.651064 * Sales + 20.7031<br>R<sup>2</sup>=0.024951<br><br>Sales=%{x}<br>Newspaper=%{y} <b>(trend)</b><extra></extra>",
         "legendgroup": "",
         "marker": {
          "color": "#636efa",
          "symbol": "circle"
         },
         "mode": "lines",
         "name": "",
         "showlegend": false,
         "type": "scatter",
         "x": {
          "bdata": "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",
          "dtype": "f8"
         },
         "xaxis": "x",
         "y": {
          "bdata": "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",
          "dtype": "f8"
         },
         "yaxis": "y"
        }
       ],
       "layout": {
        "legend": {
         "itemsizing": "constant",
         "tracegroupgap": 0
        },
        "margin": {
         "t": 60
        },
        "template": {
         "data": {
          "bar": [
           {
            "error_x": {
             "color": "#2a3f5f"
            },
            "error_y": {
             "color": "#2a3f5f"
            },
            "marker": {
             "line": {
              "color": "#E5ECF6",
              "width": 0.5
             },
             "pattern": {
              "fillmode": "overlay",
              "size": 10,
              "solidity": 0.2
             }
            },
            "type": "bar"
           }
          ],
          "barpolar": [
           {
            "marker": {
             "line": {
              "color": "#E5ECF6",
              "width": 0.5
             },
             "pattern": {
              "fillmode": "overlay",
              "size": 10,
              "solidity": 0.2
             }
            },
            "type": "barpolar"
           }
          ],
          "carpet": [
           {
            "aaxis": {
             "endlinecolor": "#2a3f5f",
             "gridcolor": "white",
             "linecolor": "white",
             "minorgridcolor": "white",
             "startlinecolor": "#2a3f5f"
            },
            "baxis": {
             "endlinecolor": "#2a3f5f",
             "gridcolor": "white",
             "linecolor": "white",
             "minorgridcolor": "white",
             "startlinecolor": "#2a3f5f"
            },
            "type": "carpet"
           }
          ],
          "choropleth": [
           {
            "colorbar": {
             "outlinewidth": 0,
             "ticks": ""
            },
            "type": "choropleth"
           }
          ],
          "contour": [
           {
            "colorbar": {
             "outlinewidth": 0,
             "ticks": ""
            },
            "colorscale": [
             [
              0,
              "#0d0887"
             ],
             [
              0.1111111111111111,
              "#46039f"
             ],
             [
              0.2222222222222222,
              "#7201a8"
             ],
             [
              0.3333333333333333,
              "#9c179e"
             ],
             [
              0.4444444444444444,
              "#bd3786"
             ],
             [
              0.5555555555555556,
              "#d8576b"
             ],
             [
              0.6666666666666666,
              "#ed7953"
             ],
             [
              0.7777777777777778,
              "#fb9f3a"
             ],
             [
              0.8888888888888888,
              "#fdca26"
             ],
             [
              1,
              "#f0f921"
             ]
            ],
            "type": "contour"
           }
          ],
          "contourcarpet": [
           {
            "colorbar": {
             "outlinewidth": 0,
             "ticks": ""
            },
            "type": "contourcarpet"
           }
          ],
          "heatmap": [
           {
            "colorbar": {
             "outlinewidth": 0,
             "ticks": ""
            },
            "colorscale": [
             [
              0,
              "#0d0887"
             ],
             [
              0.1111111111111111,
              "#46039f"
             ],
             [
              0.2222222222222222,
              "#7201a8"
             ],
             [
              0.3333333333333333,
              "#9c179e"
             ],
             [
              0.4444444444444444,
              "#bd3786"
             ],
             [
              0.5555555555555556,
              "#d8576b"
             ],
             [
              0.6666666666666666,
              "#ed7953"
             ],
             [
              0.7777777777777778,
              "#fb9f3a"
             ],
             [
              0.8888888888888888,
              "#fdca26"
             ],
             [
              1,
              "#f0f921"
             ]
            ],
            "type": "heatmap"
           }
          ],
          "histogram": [
           {
            "marker": {
             "pattern": {
              "fillmode": "overlay",
              "size": 10,
              "solidity": 0.2
             }
            },
            "type": "histogram"
           }
          ],
          "histogram2d": [
           {
            "colorbar": {
             "outlinewidth": 0,
             "ticks": ""
            },
            "colorscale": [
             [
              0,
              "#0d0887"
             ],
             [
              0.1111111111111111,
              "#46039f"
             ],
             [
              0.2222222222222222,
              "#7201a8"
             ],
             [
              0.3333333333333333,
              "#9c179e"
             ],
             [
              0.4444444444444444,
              "#bd3786"
             ],
             [
              0.5555555555555556,
              "#d8576b"
             ],
             [
              0.6666666666666666,
              "#ed7953"
             ],
             [
              0.7777777777777778,
              "#fb9f3a"
             ],
             [
              0.8888888888888888,
              "#fdca26"
             ],
             [
              1,
              "#f0f921"
             ]
            ],
            "type": "histogram2d"
           }
          ],
          "histogram2dcontour": [
           {
            "colorbar": {
             "outlinewidth": 0,
             "ticks": ""
            },
            "colorscale": [
             [
              0,
              "#0d0887"
             ],
             [
              0.1111111111111111,
              "#46039f"
             ],
             [
              0.2222222222222222,
              "#7201a8"
             ],
             [
              0.3333333333333333,
              "#9c179e"
             ],
             [
              0.4444444444444444,
              "#bd3786"
             ],
             [
              0.5555555555555556,
              "#d8576b"
             ],
             [
              0.6666666666666666,
              "#ed7953"
             ],
             [
              0.7777777777777778,
              "#fb9f3a"
             ],
             [
              0.8888888888888888,
              "#fdca26"
             ],
             [
              1,
              "#f0f921"
             ]
            ],
            "type": "histogram2dcontour"
           }
          ],
          "mesh3d": [
           {
            "colorbar": {
             "outlinewidth": 0,
             "ticks": ""
            },
            "type": "mesh3d"
           }
          ],
          "parcoords": [
           {
            "line": {
             "colorbar": {
              "outlinewidth": 0,
              "ticks": ""
             }
            },
            "type": "parcoords"
           }
          ],
          "pie": [
           {
            "automargin": true,
            "type": "pie"
           }
          ],
          "scatter": [
           {
            "fillpattern": {
             "fillmode": "overlay",
             "size": 10,
             "solidity": 0.2
            },
            "type": "scatter"
           }
          ],
          "scatter3d": [
           {
            "line": {
             "colorbar": {
              "outlinewidth": 0,
              "ticks": ""
             }
            },
            "marker": {
             "colorbar": {
              "outlinewidth": 0,
              "ticks": ""
             }
            },
            "type": "scatter3d"
           }
          ],
          "scattercarpet": [
           {
            "marker": {
             "colorbar": {
              "outlinewidth": 0,
              "ticks": ""
             }
            },
            "type": "scattercarpet"
           }
          ],
          "scattergeo": [
           {
            "marker": {
             "colorbar": {
              "outlinewidth": 0,
              "ticks": ""
             }
            },
            "type": "scattergeo"
           }
          ],
          "scattergl": [
           {
            "marker": {
             "colorbar": {
              "outlinewidth": 0,
              "ticks": ""
             }
            },
            "type": "scattergl"
           }
          ],
          "scattermap": [
           {
            "marker": {
             "colorbar": {
              "outlinewidth": 0,
              "ticks": ""
             }
            },
            "type": "scattermap"
           }
          ],
          "scattermapbox": [
           {
            "marker": {
             "colorbar": {
              "outlinewidth": 0,
              "ticks": ""
             }
            },
            "type": "scattermapbox"
           }
          ],
          "scatterpolar": [
           {
            "marker": {
             "colorbar": {
              "outlinewidth": 0,
              "ticks": ""
             }
            },
            "type": "scatterpolar"
           }
          ],
          "scatterpolargl": [
           {
            "marker": {
             "colorbar": {
              "outlinewidth": 0,
              "ticks": ""
             }
            },
            "type": "scatterpolargl"
           }
          ],
          "scatterternary": [
           {
            "marker": {
             "colorbar": {
              "outlinewidth": 0,
              "ticks": ""
             }
            },
            "type": "scatterternary"
           }
          ],
          "surface": [
           {
            "colorbar": {
             "outlinewidth": 0,
             "ticks": ""
            },
            "colorscale": [
             [
              0,
              "#0d0887"
             ],
             [
              0.1111111111111111,
              "#46039f"
             ],
             [
              0.2222222222222222,
              "#7201a8"
             ],
             [
              0.3333333333333333,
              "#9c179e"
             ],
             [
              0.4444444444444444,
              "#bd3786"
             ],
             [
              0.5555555555555556,
              "#d8576b"
             ],
             [
              0.6666666666666666,
              "#ed7953"
             ],
             [
              0.7777777777777778,
              "#fb9f3a"
             ],
             [
              0.8888888888888888,
              "#fdca26"
             ],
             [
              1,
              "#f0f921"
             ]
            ],
            "type": "surface"
           }
          ],
          "table": [
           {
            "cells": {
             "fill": {
              "color": "#EBF0F8"
             },
             "line": {
              "color": "white"
             }
            },
            "header": {
             "fill": {
              "color": "#C8D4E3"
             },
             "line": {
              "color": "white"
             }
            },
            "type": "table"
           }
          ]
         },
         "layout": {
          "annotationdefaults": {
           "arrowcolor": "#2a3f5f",
           "arrowhead": 0,
           "arrowwidth": 1
          },
          "autotypenumbers": "strict",
          "coloraxis": {
           "colorbar": {
            "outlinewidth": 0,
            "ticks": ""
           }
          },
          "colorscale": {
           "diverging": [
            [
             0,
             "#8e0152"
            ],
            [
             0.1,
             "#c51b7d"
            ],
            [
             0.2,
             "#de77ae"
            ],
            [
             0.3,
             "#f1b6da"
            ],
            [
             0.4,
             "#fde0ef"
            ],
            [
             0.5,
             "#f7f7f7"
            ],
            [
             0.6,
             "#e6f5d0"
            ],
            [
             0.7,
             "#b8e186"
            ],
            [
             0.8,
             "#7fbc41"
            ],
            [
             0.9,
             "#4d9221"
            ],
            [
             1,
             "#276419"
            ]
           ],
           "sequential": [
            [
             0,
             "#0d0887"
            ],
            [
             0.1111111111111111,
             "#46039f"
            ],
            [
             0.2222222222222222,
             "#7201a8"
            ],
            [
             0.3333333333333333,
             "#9c179e"
            ],
            [
             0.4444444444444444,
             "#bd3786"
            ],
            [
             0.5555555555555556,
             "#d8576b"
            ],
            [
             0.6666666666666666,
             "#ed7953"
            ],
            [
             0.7777777777777778,
             "#fb9f3a"
            ],
            [
             0.8888888888888888,
             "#fdca26"
            ],
            [
             1,
             "#f0f921"
            ]
           ],
           "sequentialminus": [
            [
             0,
             "#0d0887"
            ],
            [
             0.1111111111111111,
             "#46039f"
            ],
            [
             0.2222222222222222,
             "#7201a8"
            ],
            [
             0.3333333333333333,
             "#9c179e"
            ],
            [
             0.4444444444444444,
             "#bd3786"
            ],
            [
             0.5555555555555556,
             "#d8576b"
            ],
            [
             0.6666666666666666,
             "#ed7953"
            ],
            [
             0.7777777777777778,
             "#fb9f3a"
            ],
            [
             0.8888888888888888,
             "#fdca26"
            ],
            [
             1,
             "#f0f921"
            ]
           ]
          },
          "colorway": [
           "#636efa",
           "#EF553B",
           "#00cc96",
           "#ab63fa",
           "#FFA15A",
           "#19d3f3",
           "#FF6692",
           "#B6E880",
           "#FF97FF",
           "#FECB52"
          ],
          "font": {
           "color": "#2a3f5f"
          },
          "geo": {
           "bgcolor": "white",
           "lakecolor": "white",
           "landcolor": "#E5ECF6",
           "showlakes": true,
           "showland": true,
           "subunitcolor": "white"
          },
          "hoverlabel": {
           "align": "left"
          },
          "hovermode": "closest",
          "mapbox": {
           "style": "light"
          },
          "paper_bgcolor": "white",
          "plot_bgcolor": "#E5ECF6",
          "polar": {
           "angularaxis": {
            "gridcolor": "white",
            "linecolor": "white",
            "ticks": ""
           },
           "bgcolor": "#E5ECF6",
           "radialaxis": {
            "gridcolor": "white",
            "linecolor": "white",
            "ticks": ""
           }
          },
          "scene": {
           "xaxis": {
            "backgroundcolor": "#E5ECF6",
            "gridcolor": "white",
            "gridwidth": 2,
            "linecolor": "white",
            "showbackground": true,
            "ticks": "",
            "zerolinecolor": "white"
           },
           "yaxis": {
            "backgroundcolor": "#E5ECF6",
            "gridcolor": "white",
            "gridwidth": 2,
            "linecolor": "white",
            "showbackground": true,
            "ticks": "",
            "zerolinecolor": "white"
           },
           "zaxis": {
            "backgroundcolor": "#E5ECF6",
            "gridcolor": "white",
            "gridwidth": 2,
            "linecolor": "white",
            "showbackground": true,
            "ticks": "",
            "zerolinecolor": "white"
           }
          },
          "shapedefaults": {
           "line": {
            "color": "#2a3f5f"
           }
          },
          "ternary": {
           "aaxis": {
            "gridcolor": "white",
            "linecolor": "white",
            "ticks": ""
           },
           "baxis": {
            "gridcolor": "white",
            "linecolor": "white",
            "ticks": ""
           },
           "bgcolor": "#E5ECF6",
           "caxis": {
            "gridcolor": "white",
            "linecolor": "white",
            "ticks": ""
           }
          },
          "title": {
           "x": 0.05
          },
          "xaxis": {
           "automargin": true,
           "gridcolor": "white",
           "linecolor": "white",
           "ticks": "",
           "title": {
            "standoff": 15
           },
           "zerolinecolor": "white",
           "zerolinewidth": 2
          },
          "yaxis": {
           "automargin": true,
           "gridcolor": "white",
           "linecolor": "white",
           "ticks": "",
           "title": {
            "standoff": 15
           },
           "zerolinecolor": "white",
           "zerolinewidth": 2
          }
         }
        },
        "xaxis": {
         "anchor": "y",
         "domain": [
          0,
          1
         ],
         "title": {
          "text": "Sales"
         }
        },
        "yaxis": {
         "anchor": "x",
         "domain": [
          0,
          1
         ],
         "title": {
          "text": "Newspaper"
         }
        }
       }
      }
     },
     "metadata": {},
     "output_type": "display_data"
    }
   ],
   "source": [
    "figure = px.scatter(data_frame=data,x=\"Sales\",y=\"Newspaper\", size=\"Newspaper\", trendline=\"ols\")\n",
    "figure.show()"
   ]
  },
  {
   "cell_type": "code",
   "execution_count": 9,
   "id": "2a551084",
   "metadata": {},
   "outputs": [
    {
     "data": {
      "application/vnd.plotly.v1+json": {
       "config": {
        "plotlyServerURL": "https://plot.ly"
       },
       "data": [
        {
         "hovertemplate": "Sales=%{x}<br>Radio=%{marker.size}<extra></extra>",
         "legendgroup": "",
         "marker": {
          "color": "#636efa",
          "size": {
           "bdata": "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",
           "dtype": "f8"
          },
          "sizemode": "area",
          "sizeref": 0.124,
          "symbol": "circle"
         },
         "mode": "markers",
         "name": "",
         "orientation": "v",
         "showlegend": false,
         "type": "scatter",
         "x": {
          "bdata": "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",
          "dtype": "f8"
         },
         "xaxis": "x",
         "y": {
          "bdata": "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",
          "dtype": "f8"
         },
         "yaxis": "y"
        },
        {
         "hovertemplate": "<b>OLS trendline</b><br>Radio = 0.982402 * Sales + 8.39977<br>R<sup>2</sup>=0.122242<br><br>Sales=%{x}<br>Radio=%{y} <b>(trend)</b><extra></extra>",
         "legendgroup": "",
         "marker": {
          "color": "#636efa",
          "symbol": "circle"
         },
         "mode": "lines",
         "name": "",
         "showlegend": false,
         "type": "scatter",
         "x": {
          "bdata": "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",
          "dtype": "f8"
         },
         "xaxis": "x",
         "y": {
          "bdata": "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",
          "dtype": "f8"
         },
         "yaxis": "y"
        }
       ],
       "layout": {
        "legend": {
         "itemsizing": "constant",
         "tracegroupgap": 0
        },
        "margin": {
         "t": 60
        },
        "template": {
         "data": {
          "bar": [
           {
            "error_x": {
             "color": "#2a3f5f"
            },
            "error_y": {
             "color": "#2a3f5f"
            },
            "marker": {
             "line": {
              "color": "#E5ECF6",
              "width": 0.5
             },
             "pattern": {
              "fillmode": "overlay",
              "size": 10,
              "solidity": 0.2
             }
            },
            "type": "bar"
           }
          ],
          "barpolar": [
           {
            "marker": {
             "line": {
              "color": "#E5ECF6",
              "width": 0.5
             },
             "pattern": {
              "fillmode": "overlay",
              "size": 10,
              "solidity": 0.2
             }
            },
            "type": "barpolar"
           }
          ],
          "carpet": [
           {
            "aaxis": {
             "endlinecolor": "#2a3f5f",
             "gridcolor": "white",
             "linecolor": "white",
             "minorgridcolor": "white",
             "startlinecolor": "#2a3f5f"
            },
            "baxis": {
             "endlinecolor": "#2a3f5f",
             "gridcolor": "white",
             "linecolor": "white",
             "minorgridcolor": "white",
             "startlinecolor": "#2a3f5f"
            },
            "type": "carpet"
           }
          ],
          "choropleth": [
           {
            "colorbar": {
             "outlinewidth": 0,
             "ticks": ""
            },
            "type": "choropleth"
           }
          ],
          "contour": [
           {
            "colorbar": {
             "outlinewidth": 0,
             "ticks": ""
            },
            "colorscale": [
             [
              0,
              "#0d0887"
             ],
             [
              0.1111111111111111,
              "#46039f"
             ],
             [
              0.2222222222222222,
              "#7201a8"
             ],
             [
              0.3333333333333333,
              "#9c179e"
             ],
             [
              0.4444444444444444,
              "#bd3786"
             ],
             [
              0.5555555555555556,
              "#d8576b"
             ],
             [
              0.6666666666666666,
              "#ed7953"
             ],
             [
              0.7777777777777778,
              "#fb9f3a"
             ],
             [
              0.8888888888888888,
              "#fdca26"
             ],
             [
              1,
              "#f0f921"
             ]
            ],
            "type": "contour"
           }
          ],
          "contourcarpet": [
           {
            "colorbar": {
             "outlinewidth": 0,
             "ticks": ""
            },
            "type": "contourcarpet"
           }
          ],
          "heatmap": [
           {
            "colorbar": {
             "outlinewidth": 0,
             "ticks": ""
            },
            "colorscale": [
             [
              0,
              "#0d0887"
             ],
             [
              0.1111111111111111,
              "#46039f"
             ],
             [
              0.2222222222222222,
              "#7201a8"
             ],
             [
              0.3333333333333333,
              "#9c179e"
             ],
             [
              0.4444444444444444,
              "#bd3786"
             ],
             [
              0.5555555555555556,
              "#d8576b"
             ],
             [
              0.6666666666666666,
              "#ed7953"
             ],
             [
              0.7777777777777778,
              "#fb9f3a"
             ],
             [
              0.8888888888888888,
              "#fdca26"
             ],
             [
              1,
              "#f0f921"
             ]
            ],
            "type": "heatmap"
           }
          ],
          "histogram": [
           {
            "marker": {
             "pattern": {
              "fillmode": "overlay",
              "size": 10,
              "solidity": 0.2
             }
            },
            "type": "histogram"
           }
          ],
          "histogram2d": [
           {
            "colorbar": {
             "outlinewidth": 0,
             "ticks": ""
            },
            "colorscale": [
             [
              0,
              "#0d0887"
             ],
             [
              0.1111111111111111,
              "#46039f"
             ],
             [
              0.2222222222222222,
              "#7201a8"
             ],
             [
              0.3333333333333333,
              "#9c179e"
             ],
             [
              0.4444444444444444,
              "#bd3786"
             ],
             [
              0.5555555555555556,
              "#d8576b"
             ],
             [
              0.6666666666666666,
              "#ed7953"
             ],
             [
              0.7777777777777778,
              "#fb9f3a"
             ],
             [
              0.8888888888888888,
              "#fdca26"
             ],
             [
              1,
              "#f0f921"
             ]
            ],
            "type": "histogram2d"
           }
          ],
          "histogram2dcontour": [
           {
            "colorbar": {
             "outlinewidth": 0,
             "ticks": ""
            },
            "colorscale": [
             [
              0,
              "#0d0887"
             ],
             [
              0.1111111111111111,
              "#46039f"
             ],
             [
              0.2222222222222222,
              "#7201a8"
             ],
             [
              0.3333333333333333,
              "#9c179e"
             ],
             [
              0.4444444444444444,
              "#bd3786"
             ],
             [
              0.5555555555555556,
              "#d8576b"
             ],
             [
              0.6666666666666666,
              "#ed7953"
             ],
             [
              0.7777777777777778,
              "#fb9f3a"
             ],
             [
              0.8888888888888888,
              "#fdca26"
             ],
             [
              1,
              "#f0f921"
             ]
            ],
            "type": "histogram2dcontour"
           }
          ],
          "mesh3d": [
           {
            "colorbar": {
             "outlinewidth": 0,
             "ticks": ""
            },
            "type": "mesh3d"
           }
          ],
          "parcoords": [
           {
            "line": {
             "colorbar": {
              "outlinewidth": 0,
              "ticks": ""
             }
            },
            "type": "parcoords"
           }
          ],
          "pie": [
           {
            "automargin": true,
            "type": "pie"
           }
          ],
          "scatter": [
           {
            "fillpattern": {
             "fillmode": "overlay",
             "size": 10,
             "solidity": 0.2
            },
            "type": "scatter"
           }
          ],
          "scatter3d": [
           {
            "line": {
             "colorbar": {
              "outlinewidth": 0,
              "ticks": ""
             }
            },
            "marker": {
             "colorbar": {
              "outlinewidth": 0,
              "ticks": ""
             }
            },
            "type": "scatter3d"
           }
          ],
          "scattercarpet": [
           {
            "marker": {
             "colorbar": {
              "outlinewidth": 0,
              "ticks": ""
             }
            },
            "type": "scattercarpet"
           }
          ],
          "scattergeo": [
           {
            "marker": {
             "colorbar": {
              "outlinewidth": 0,
              "ticks": ""
             }
            },
            "type": "scattergeo"
           }
          ],
          "scattergl": [
           {
            "marker": {
             "colorbar": {
              "outlinewidth": 0,
              "ticks": ""
             }
            },
            "type": "scattergl"
           }
          ],
          "scattermap": [
           {
            "marker": {
             "colorbar": {
              "outlinewidth": 0,
              "ticks": ""
             }
            },
            "type": "scattermap"
           }
          ],
          "scattermapbox": [
           {
            "marker": {
             "colorbar": {
              "outlinewidth": 0,
              "ticks": ""
             }
            },
            "type": "scattermapbox"
           }
          ],
          "scatterpolar": [
           {
            "marker": {
             "colorbar": {
              "outlinewidth": 0,
              "ticks": ""
             }
            },
            "type": "scatterpolar"
           }
          ],
          "scatterpolargl": [
           {
            "marker": {
             "colorbar": {
              "outlinewidth": 0,
              "ticks": ""
             }
            },
            "type": "scatterpolargl"
           }
          ],
          "scatterternary": [
           {
            "marker": {
             "colorbar": {
              "outlinewidth": 0,
              "ticks": ""
             }
            },
            "type": "scatterternary"
           }
          ],
          "surface": [
           {
            "colorbar": {
             "outlinewidth": 0,
             "ticks": ""
            },
            "colorscale": [
             [
              0,
              "#0d0887"
             ],
             [
              0.1111111111111111,
              "#46039f"
             ],
             [
              0.2222222222222222,
              "#7201a8"
             ],
             [
              0.3333333333333333,
              "#9c179e"
             ],
             [
              0.4444444444444444,
              "#bd3786"
             ],
             [
              0.5555555555555556,
              "#d8576b"
             ],
             [
              0.6666666666666666,
              "#ed7953"
             ],
             [
              0.7777777777777778,
              "#fb9f3a"
             ],
             [
              0.8888888888888888,
              "#fdca26"
             ],
             [
              1,
              "#f0f921"
             ]
            ],
            "type": "surface"
           }
          ],
          "table": [
           {
            "cells": {
             "fill": {
              "color": "#EBF0F8"
             },
             "line": {
              "color": "white"
             }
            },
            "header": {
             "fill": {
              "color": "#C8D4E3"
             },
             "line": {
              "color": "white"
             }
            },
            "type": "table"
           }
          ]
         },
         "layout": {
          "annotationdefaults": {
           "arrowcolor": "#2a3f5f",
           "arrowhead": 0,
           "arrowwidth": 1
          },
          "autotypenumbers": "strict",
          "coloraxis": {
           "colorbar": {
            "outlinewidth": 0,
            "ticks": ""
           }
          },
          "colorscale": {
           "diverging": [
            [
             0,
             "#8e0152"
            ],
            [
             0.1,
             "#c51b7d"
            ],
            [
             0.2,
             "#de77ae"
            ],
            [
             0.3,
             "#f1b6da"
            ],
            [
             0.4,
             "#fde0ef"
            ],
            [
             0.5,
             "#f7f7f7"
            ],
            [
             0.6,
             "#e6f5d0"
            ],
            [
             0.7,
             "#b8e186"
            ],
            [
             0.8,
             "#7fbc41"
            ],
            [
             0.9,
             "#4d9221"
            ],
            [
             1,
             "#276419"
            ]
           ],
           "sequential": [
            [
             0,
             "#0d0887"
            ],
            [
             0.1111111111111111,
             "#46039f"
            ],
            [
             0.2222222222222222,
             "#7201a8"
            ],
            [
             0.3333333333333333,
             "#9c179e"
            ],
            [
             0.4444444444444444,
             "#bd3786"
            ],
            [
             0.5555555555555556,
             "#d8576b"
            ],
            [
             0.6666666666666666,
             "#ed7953"
            ],
            [
             0.7777777777777778,
             "#fb9f3a"
            ],
            [
             0.8888888888888888,
             "#fdca26"
            ],
            [
             1,
             "#f0f921"
            ]
           ],
           "sequentialminus": [
            [
             0,
             "#0d0887"
            ],
            [
             0.1111111111111111,
             "#46039f"
            ],
            [
             0.2222222222222222,
             "#7201a8"
            ],
            [
             0.3333333333333333,
             "#9c179e"
            ],
            [
             0.4444444444444444,
             "#bd3786"
            ],
            [
             0.5555555555555556,
             "#d8576b"
            ],
            [
             0.6666666666666666,
             "#ed7953"
            ],
            [
             0.7777777777777778,
             "#fb9f3a"
            ],
            [
             0.8888888888888888,
             "#fdca26"
            ],
            [
             1,
             "#f0f921"
            ]
           ]
          },
          "colorway": [
           "#636efa",
           "#EF553B",
           "#00cc96",
           "#ab63fa",
           "#FFA15A",
           "#19d3f3",
           "#FF6692",
           "#B6E880",
           "#FF97FF",
           "#FECB52"
          ],
          "font": {
           "color": "#2a3f5f"
          },
          "geo": {
           "bgcolor": "white",
           "lakecolor": "white",
           "landcolor": "#E5ECF6",
           "showlakes": true,
           "showland": true,
           "subunitcolor": "white"
          },
          "hoverlabel": {
           "align": "left"
          },
          "hovermode": "closest",
          "mapbox": {
           "style": "light"
          },
          "paper_bgcolor": "white",
          "plot_bgcolor": "#E5ECF6",
          "polar": {
           "angularaxis": {
            "gridcolor": "white",
            "linecolor": "white",
            "ticks": ""
           },
           "bgcolor": "#E5ECF6",
           "radialaxis": {
            "gridcolor": "white",
            "linecolor": "white",
            "ticks": ""
           }
          },
          "scene": {
           "xaxis": {
            "backgroundcolor": "#E5ECF6",
            "gridcolor": "white",
            "gridwidth": 2,
            "linecolor": "white",
            "showbackground": true,
            "ticks": "",
            "zerolinecolor": "white"
           },
           "yaxis": {
            "backgroundcolor": "#E5ECF6",
            "gridcolor": "white",
            "gridwidth": 2,
            "linecolor": "white",
            "showbackground": true,
            "ticks": "",
            "zerolinecolor": "white"
           },
           "zaxis": {
            "backgroundcolor": "#E5ECF6",
            "gridcolor": "white",
            "gridwidth": 2,
            "linecolor": "white",
            "showbackground": true,
            "ticks": "",
            "zerolinecolor": "white"
           }
          },
          "shapedefaults": {
           "line": {
            "color": "#2a3f5f"
           }
          },
          "ternary": {
           "aaxis": {
            "gridcolor": "white",
            "linecolor": "white",
            "ticks": ""
           },
           "baxis": {
            "gridcolor": "white",
            "linecolor": "white",
            "ticks": ""
           },
           "bgcolor": "#E5ECF6",
           "caxis": {
            "gridcolor": "white",
            "linecolor": "white",
            "ticks": ""
           }
          },
          "title": {
           "x": 0.05
          },
          "xaxis": {
           "automargin": true,
           "gridcolor": "white",
           "linecolor": "white",
           "ticks": "",
           "title": {
            "standoff": 15
           },
           "zerolinecolor": "white",
           "zerolinewidth": 2
          },
          "yaxis": {
           "automargin": true,
           "gridcolor": "white",
           "linecolor": "white",
           "ticks": "",
           "title": {
            "standoff": 15
           },
           "zerolinecolor": "white",
           "zerolinewidth": 2
          }
         }
        },
        "xaxis": {
         "anchor": "y",
         "domain": [
          0,
          1
         ],
         "title": {
          "text": "Sales"
         }
        },
        "yaxis": {
         "anchor": "x",
         "domain": [
          0,
          1
         ],
         "title": {
          "text": "Radio"
         }
        }
       }
      }
     },
     "metadata": {},
     "output_type": "display_data"
    }
   ],
   "source": [
    "figure = px.scatter(data_frame=data, x=\"Sales\", y=\"Radio\", size=\"Radio\", trendline=\"ols\")\n",
    "figure.show()"
   ]
  },
  {
   "cell_type": "code",
   "execution_count": 10,
   "id": "e6c442ca",
   "metadata": {},
   "outputs": [
    {
     "name": "stdout",
     "output_type": "stream",
     "text": [
      "Sales        1.000000\n",
      "TV           0.901208\n",
      "Radio        0.349631\n",
      "Newspaper    0.157960\n",
      "Name: Sales, dtype: float64\n"
     ]
    }
   ],
   "source": [
    "correlation = data.corr()\n",
    "print(correlation[\"Sales\"].sort_values(ascending=False))"
   ]
  },
  {
   "cell_type": "markdown",
   "id": "8e15e1f8",
   "metadata": {},
   "source": [
    "#Future Sales Prediction Model"
   ]
  },
  {
   "cell_type": "code",
   "execution_count": 15,
   "id": "8f89a286",
   "metadata": {},
   "outputs": [
    {
     "name": "stdout",
     "output_type": "stream",
     "text": [
      "0.9059011844150826\n"
     ]
    }
   ],
   "source": [
    "x = np.array(data.drop([\"Sales\"], axis=1))\n",
    "\n",
    "y = np.array(data[\"Sales\"])\n",
    "xtrain, xtest, ytrain, ytest = train_test_split(x,y, test_size=0.2,random_state=42)\n",
    "model = LinearRegression()\n",
    "model.fit(xtrain, ytrain)\n",
    "print(model.score(xtest, ytest))"
   ]
  },
  {
   "cell_type": "code",
   "execution_count": 16,
   "id": "f666e3fb",
   "metadata": {},
   "outputs": [
    {
     "name": "stdout",
     "output_type": "stream",
     "text": [
      "[21.37254028]\n"
     ]
    }
   ],
   "source": [
    "#features = [[\"TV\", \"Radio\", \"Newspaper\"]]\n",
    "features = np.array([[230.1,37.8,69.2]])\n",
    "print(model.predict(features))"
   ]
  }
 ],
 "metadata": {
  "kernelspec": {
   "display_name": "Python 3",
   "language": "python",
   "name": "python3"
  },
  "language_info": {
   "codemirror_mode": {
    "name": "ipython",
    "version": 3
   },
   "file_extension": ".py",
   "mimetype": "text/x-python",
   "name": "python",
   "nbconvert_exporter": "python",
   "pygments_lexer": "ipython3",
   "version": "3.12.1"
  }
 },
 "nbformat": 4,
 "nbformat_minor": 5
}
